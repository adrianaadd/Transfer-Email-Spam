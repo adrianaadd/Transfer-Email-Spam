{
 "cells": [
  {
   "cell_type": "code",
   "execution_count": 140,
   "id": "a974227a-cba2-4030-916c-19922a042f4b",
   "metadata": {
    "tags": []
   },
   "outputs": [],
   "source": [
    "import imaplib\n",
    "import email\n",
    "from email.header import decode_header\n",
    "import pandas as pd\n",
    "import time  \n"
   ]
  },
  {
   "cell_type": "code",
   "execution_count": 165,
   "id": "2eff24b6-9cb2-46ac-863b-c99805ead849",
   "metadata": {
    "tags": []
   },
   "outputs": [],
   "source": [
    "usuario = \"\"\n",
    "contraseña = \"\""
   ]
  },
  {
   "cell_type": "code",
   "execution_count": 167,
   "id": "",
   "metadata": {
    "tags": []
   },
   "outputs": [
    {
     "data": {
      "text/plain": [
       "('OK', [b'authenticated (Success)'])"
      ]
     },
     "execution_count": 167,
     "metadata": {},
     "output_type": "execute_result"
    }
   ],
   "source": [
    "\n",
    "# Conectar al servidor de Gmail usando IMAP\n",
    "servidor = \"imap.gmail.com\"\n",
    "puerto = 993\n",
    "mail = imaplib.IMAP4_SSL(servidor, puerto)\n",
    "mail.login(usuario, contraseña)"
   ]
  },
  {
   "cell_type": "code",
   "execution_count": 168,
   "id": "a6564414-ef39-4351-8703-fb2927d40bda",
   "metadata": {
    "tags": []
   },
   "outputs": [
    {
     "name": "stdout",
     "output_type": "stream",
     "text": [
      "(\\HasNoChildren) \"/\" \"INBOX\"\n",
      "(\\HasNoChildren) \"/\" \"Junk\"\n",
      "(\\HasNoChildren) \"/\" \"Sent\"\n",
      "(\\HasNoChildren) \"/\" \"Trash\"\n",
      "(\\HasChildren \\Noselect) \"/\" \"[Gmail]\"\n",
      "(\\Drafts \\HasNoChildren) \"/\" \"[Gmail]/Borradores\"\n",
      "(\\Flagged \\HasNoChildren) \"/\" \"[Gmail]/Destacados\"\n",
      "(\\HasNoChildren \\Sent) \"/\" \"[Gmail]/Enviados\"\n",
      "(\\HasNoChildren \\Important) \"/\" \"[Gmail]/Importantes\"\n",
      "(\\HasNoChildren \\Trash) \"/\" \"[Gmail]/Papelera\"\n",
      "(\\HasNoChildren \\Junk) \"/\" \"[Gmail]/Spam\"\n",
      "(\\All \\HasNoChildren) \"/\" \"[Gmail]/Todos\"\n"
     ]
    }
   ],
   "source": [
    "# Listar todas las carpetas en la cuenta\n",
    "estado, carpetas = mail.list()\n",
    "for carpeta in carpetas:\n",
    "    print(carpeta.decode())"
   ]
  },
  {
   "cell_type": "code",
   "execution_count": 171,
   "id": "3805741d-aa7b-4acd-811e-82ff3b26db78",
   "metadata": {
    "tags": []
   },
   "outputs": [],
   "source": [
    "def obtener_correos(carpeta, etiqueta, limite=1000, fragmento=100):\n",
    "    \n",
    "    # Seleccionar la carpeta\n",
    "    estado, _ = mail.select(carpeta)\n",
    "    if estado != \"OK\":\n",
    "        print(f\"Error al seleccionar la carpeta {carpeta}. Estado: {estado}\")\n",
    "        return []\n",
    "\n",
    "    print(f\"Carpeta {carpeta} seleccionada correctamente.\")\n",
    "\n",
    "    # Buscar todos los correos en la carpeta\n",
    "    estado, mensajes = mail.search(None, \"ALL\")\n",
    "    if estado != \"OK\":\n",
    "        print(f\"Error en la búsqueda de correos en la carpeta {carpeta}\")\n",
    "        return []\n",
    "\n",
    "    # Limitar la cantidad de correos\n",
    "    id_mensajes = mensajes[0].split()[:limite]\n",
    "    correos = []\n",
    "    \n",
    "    # Procesar en fragmentos\n",
    "    for i in range(0, len(id_mensajes), fragmento):\n",
    "        fragmento_ids = id_mensajes[i:i + fragmento]\n",
    "        id_list = \",\".join(fragmento_id.decode(\"utf-8\") for fragmento_id in fragmento_ids)  # Corrección aquí\n",
    "        \n",
    "        estado, data = mail.fetch(id_list, \"(RFC822)\")\n",
    "        if estado != \"OK\":\n",
    "            print(f\"Error al obtener el fragmento {i // fragmento + 1}\")\n",
    "            continue\n",
    "\n",
    "        for response_part in data:\n",
    "            if isinstance(response_part, tuple):\n",
    "                mensaje = email.message_from_bytes(response_part[1])\n",
    "\n",
    "                # Decodificar el asunto (coloca aquí el ajuste)\n",
    "                asunto, codificacion = decode_header(mensaje[\"Subject\"] or \"\")[0]\n",
    "                if isinstance(asunto, bytes):\n",
    "                    try:\n",
    "                        asunto = asunto.decode(codificacion if codificacion else \"utf-8\")\n",
    "                    except LookupError:\n",
    "                        asunto = asunto.decode(\"utf-8\", errors=\"replace\")\n",
    "\n",
    "                # Decodificar el remitente\n",
    "                de, codificacion = decode_header(mensaje.get(\"From\"))[0]\n",
    "                if isinstance(de, bytes):\n",
    "                    try:\n",
    "                        de = de.decode(codificacion if codificacion else \"utf-8\")\n",
    "                    except LookupError:\n",
    "                        de = de.decode(\"utf-8\", errors=\"replace\")\n",
    "\n",
    "                # Obtener el cuerpo\n",
    "                cuerpo = \"\"\n",
    "                if mensaje.is_multipart():\n",
    "                    for parte in mensaje.walk():\n",
    "                        tipo_contenido = parte.get_content_type()\n",
    "                        disp = str(parte.get(\"Content-Disposition\"))\n",
    "                        if tipo_contenido == \"text/plain\" and \"attachment\" not in disp:\n",
    "                            cuerpo = parte.get_payload(decode=True).decode(errors=\"replace\")\n",
    "                            break\n",
    "                else:\n",
    "                    cuerpo = mensaje.get_payload(decode=True).decode(errors=\"replace\")\n",
    "\n",
    "                # Añadir correo al listado\n",
    "                correos.append({\n",
    "                    \"Asunto\": asunto,\n",
    "                    \"Remitente\": de,\n",
    "                    \"Cuerpo\": cuerpo,\n",
    "                    \"Etiqueta\": etiqueta\n",
    "                })\n",
    "        \n",
    "        print(f\"Fragmento {i // fragmento + 1} procesado. Total de correos hasta ahora: {len(correos)}\")\n",
    "        time.sleep(1)  # Añadir una pausa para evitar límites de conexión\n",
    "\n",
    "    print(f\"Total de correos procesados en {carpeta}: {len(correos)}\")\n",
    "    return correos\n"
   ]
  },
  {
   "cell_type": "code",
   "execution_count": null,
   "id": "594034d6-deb7-4479-9f68-6faf02967a57",
   "metadata": {},
   "outputs": [],
   "source": [
    "\n",
    "df_correos.to_csv(\"correos_etiquetados_spam.csv\", index=False)\n"
   ]
  },
  {
   "cell_type": "code",
   "execution_count": null,
   "id": "678fa9f6-2ed1-4392-a220-99f7ab0a9a17",
   "metadata": {
    "tags": []
   },
   "outputs": [
    {
     "name": "stdout",
     "output_type": "stream",
     "text": [
      "Carpeta [Gmail]/Spam seleccionada correctamente.\n",
      "Fragmento 1 procesado. Total de correos hasta ahora: 25\n",
      "Total de correos procesados en [Gmail]/Spam: 25\n",
      "Carpeta [Gmail]/Importantes seleccionada correctamente.\n",
      "Fragmento 1 procesado. Total de correos hasta ahora: 50\n"
     ]
    }
   ],
   "source": [
    "# Obtener correos de Spam y de Importante\n",
    "correos_spam = obtener_correos(\"[Gmail]/Spam\", \"spam\", limite=1000)\n",
    "correos_importante = obtener_correos(\"[Gmail]/Importantes\", \"importante\", limite=1000)\n",
    "correos_spam2 = obtener_correos(\"Trash\", \"spam\", limite=1000)\n",
    "\n",
    "# Combinar ambas listas en un solo DataFrame\n",
    "df_correos = pd.DataFrame(correos_spam2 + correos_spam + correos_importante)\n",
    "\n",
    "# Mostrar el DataFrame (o puedes guardarlo en un archivo)\n",
    "print(df_correos.head())\n",
    "\n",
    "# O guardar en un archivo CSV\n",
    "df_correos.to_csv(\"correos_etiquetados.csv\", index=False)\n"
   ]
  }
 ],
 "metadata": {
  "kernelspec": {
   "display_name": "Python 3 (ipykernel)",
   "language": "python",
   "name": "python3"
  },
  "language_info": {
   "codemirror_mode": {
    "name": "ipython",
    "version": 3
   },
   "file_extension": ".py",
   "mimetype": "text/x-python",
   "name": "python",
   "nbconvert_exporter": "python",
   "pygments_lexer": "ipython3",
   "version": "3.11.7"
  }
 },
 "nbformat": 4,
 "nbformat_minor": 5
}
